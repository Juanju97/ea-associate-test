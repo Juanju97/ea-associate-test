{
 "cells": [
  {
   "cell_type": "markdown",
   "metadata": {},
   "source": [
    "# **4. Classification**\n",
    "#### Juan Julián Cea Morán\n",
    "\n",
    "<img src=\"https://upload.wikimedia.org/wikipedia/commons/thumb/0/0d/Electronic-Arts-Logo.svg/1200px-Electronic-Arts-Logo.svg.png\" width=100px>\n",
    "\n",
    "---\n",
    "Once we have normalized and tokenied the data, it is time to build some classification models. In this case, the required task is a supervised classification problem, since we have pre-labeled data to work with. To addres this problem, we will be using classifiers like Multinomial Naive Bayes or Suppor Vector Machine.\n",
    "\n",
    "But, before feeding the data into the models, let's prepare the datasets."
   ]
  },
  {
   "cell_type": "markdown",
   "metadata": {},
   "source": [
    "---\n",
    "## Prepare datasets\n",
    "We have to create train and test dataset, so we have to split our dataset. But before do that, there are some operations that we need to perform.\n",
    "\n",
    "First of all, we have to import the data and then, encode the categories into diferent numeric labels, conforming the targets."
   ]
  },
  {
   "cell_type": "code",
   "execution_count": 3,
   "metadata": {},
   "outputs": [],
   "source": [
    "import pickle\n",
    "import pandas as pd\n",
    "\n",
    "preproc_df = pickle.load(open(\"../data/preproc_df.pkl\", 'rb'))"
   ]
  },
  {
   "cell_type": "code",
   "execution_count": 4,
   "metadata": {},
   "outputs": [],
   "source": [
    "from sklearn import preprocessing\n",
    "\n",
    "le = preprocessing.LabelEncoder()\n",
    "preproc_df['Target'] = le.fit_transform([cat for cat in preproc_df['Category']])"
   ]
  },
  {
   "cell_type": "code",
   "execution_count": 5,
   "metadata": {},
   "outputs": [],
   "source": [
    "labels = list(set(preproc_df['Category'].tolist()))"
   ]
  },
  {
   "cell_type": "code",
   "execution_count": 6,
   "metadata": {},
   "outputs": [
    {
     "data": {
      "text/html": [
       "<div>\n",
       "<style scoped>\n",
       "    .dataframe tbody tr th:only-of-type {\n",
       "        vertical-align: middle;\n",
       "    }\n",
       "\n",
       "    .dataframe tbody tr th {\n",
       "        vertical-align: top;\n",
       "    }\n",
       "\n",
       "    .dataframe thead th {\n",
       "        text-align: right;\n",
       "    }\n",
       "</style>\n",
       "<table border=\"1\" class=\"dataframe\">\n",
       "  <thead>\n",
       "    <tr style=\"text-align: right;\">\n",
       "      <th></th>\n",
       "      <th>Preprocessed</th>\n",
       "      <th>Lang</th>\n",
       "      <th>Category</th>\n",
       "      <th>Target</th>\n",
       "    </tr>\n",
       "  </thead>\n",
       "  <tbody>\n",
       "    <tr>\n",
       "      <th>0</th>\n",
       "      <td>[read, book, town, everyone, uses, order, phar...</td>\n",
       "      <td>en</td>\n",
       "      <td>APR</td>\n",
       "      <td>0</td>\n",
       "    </tr>\n",
       "    <tr>\n",
       "      <th>1</th>\n",
       "      <td>[recipes, appreciated, family, small, large, r...</td>\n",
       "      <td>en</td>\n",
       "      <td>APR</td>\n",
       "      <td>0</td>\n",
       "    </tr>\n",
       "    <tr>\n",
       "      <th>2</th>\n",
       "      <td>[say, ease, author, even, made, effort, meet, ...</td>\n",
       "      <td>en</td>\n",
       "      <td>APR</td>\n",
       "      <td>0</td>\n",
       "    </tr>\n",
       "    <tr>\n",
       "      <th>3</th>\n",
       "      <td>[milady, found, good, vein, anita, blake, base...</td>\n",
       "      <td>en</td>\n",
       "      <td>APR</td>\n",
       "      <td>0</td>\n",
       "    </tr>\n",
       "    <tr>\n",
       "      <th>4</th>\n",
       "      <td>[somewhere, greece, gentlemen, decided, visit,...</td>\n",
       "      <td>en</td>\n",
       "      <td>APR</td>\n",
       "      <td>0</td>\n",
       "    </tr>\n",
       "  </tbody>\n",
       "</table>\n",
       "</div>"
      ],
      "text/plain": [
       "                                        Preprocessed Lang Category  Target\n",
       "0  [read, book, town, everyone, uses, order, phar...   en      APR       0\n",
       "1  [recipes, appreciated, family, small, large, r...   en      APR       0\n",
       "2  [say, ease, author, even, made, effort, meet, ...   en      APR       0\n",
       "3  [milady, found, good, vein, anita, blake, base...   en      APR       0\n",
       "4  [somewhere, greece, gentlemen, decided, visit,...   en      APR       0"
      ]
     },
     "execution_count": 6,
     "metadata": {},
     "output_type": "execute_result"
    }
   ],
   "source": [
    "preproc_df.head()"
   ]
  },
  {
   "cell_type": "markdown",
   "metadata": {},
   "source": [
    "We need also to shuffle all samples."
   ]
  },
  {
   "cell_type": "code",
   "execution_count": 7,
   "metadata": {},
   "outputs": [],
   "source": [
    "preproc_df = preproc_df.sample(frac=1).reset_index(drop=True)"
   ]
  },
  {
   "cell_type": "code",
   "execution_count": 8,
   "metadata": {},
   "outputs": [
    {
     "data": {
      "text/html": [
       "<div>\n",
       "<style scoped>\n",
       "    .dataframe tbody tr th:only-of-type {\n",
       "        vertical-align: middle;\n",
       "    }\n",
       "\n",
       "    .dataframe tbody tr th {\n",
       "        vertical-align: top;\n",
       "    }\n",
       "\n",
       "    .dataframe thead th {\n",
       "        text-align: right;\n",
       "    }\n",
       "</style>\n",
       "<table border=\"1\" class=\"dataframe\">\n",
       "  <thead>\n",
       "    <tr style=\"text-align: right;\">\n",
       "      <th></th>\n",
       "      <th>Preprocessed</th>\n",
       "      <th>Lang</th>\n",
       "      <th>Category</th>\n",
       "      <th>Target</th>\n",
       "    </tr>\n",
       "  </thead>\n",
       "  <tbody>\n",
       "    <tr>\n",
       "      <th>0</th>\n",
       "      <td>[lieu, naissance, nationalite, date, mort, lie...</td>\n",
       "      <td>fr</td>\n",
       "      <td>Wikipedia</td>\n",
       "      <td>3</td>\n",
       "    </tr>\n",
       "    <tr>\n",
       "      <th>1</th>\n",
       "      <td>[frequences, differentes, celle, bas, plus, pl...</td>\n",
       "      <td>fr</td>\n",
       "      <td>Wikipedia</td>\n",
       "      <td>3</td>\n",
       "    </tr>\n",
       "    <tr>\n",
       "      <th>2</th>\n",
       "      <td>[shu, syllabary, writing, system, used, exclus...</td>\n",
       "      <td>en</td>\n",
       "      <td>Wikipedia</td>\n",
       "      <td>3</td>\n",
       "    </tr>\n",
       "    <tr>\n",
       "      <th>3</th>\n",
       "      <td>[tres, bien, livre, detaille, toutes, epreuves...</td>\n",
       "      <td>fr</td>\n",
       "      <td>APR</td>\n",
       "      <td>0</td>\n",
       "    </tr>\n",
       "    <tr>\n",
       "      <th>4</th>\n",
       "      <td>[beaucoup, mal, parcourir, jusqu, fin, trop, i...</td>\n",
       "      <td>fr</td>\n",
       "      <td>APR</td>\n",
       "      <td>0</td>\n",
       "    </tr>\n",
       "  </tbody>\n",
       "</table>\n",
       "</div>"
      ],
      "text/plain": [
       "                                        Preprocessed Lang   Category  Target\n",
       "0  [lieu, naissance, nationalite, date, mort, lie...   fr  Wikipedia       3\n",
       "1  [frequences, differentes, celle, bas, plus, pl...   fr  Wikipedia       3\n",
       "2  [shu, syllabary, writing, system, used, exclus...   en  Wikipedia       3\n",
       "3  [tres, bien, livre, detaille, toutes, epreuves...   fr        APR       0\n",
       "4  [beaucoup, mal, parcourir, jusqu, fin, trop, i...   fr        APR       0"
      ]
     },
     "execution_count": 8,
     "metadata": {},
     "output_type": "execute_result"
    }
   ],
   "source": [
    "preproc_df.head()"
   ]
  },
  {
   "cell_type": "markdown",
   "metadata": {},
   "source": [
    "Now, it's time to split the dataset. To do that, we are gonna take 90% for train and 10% for test."
   ]
  },
  {
   "cell_type": "code",
   "execution_count": 9,
   "metadata": {},
   "outputs": [],
   "source": [
    "from sklearn.model_selection import train_test_split\n",
    "\n",
    "train_df, test_df = train_test_split(preproc_df, test_size=0.1)"
   ]
  },
  {
   "cell_type": "code",
   "execution_count": 10,
   "metadata": {},
   "outputs": [
    {
     "name": "stdout",
     "output_type": "stream",
     "text": [
      "[2 0 3 0 2 3 3 2 1 3 3 0 3 3 1]\n",
      "[3 3 2 3 3 3 0 2 0 0 0 2 0 3 3]\n"
     ]
    }
   ],
   "source": [
    "import numpy as np\n",
    "\n",
    "Y_train = np.asarray(train_df['Target'].tolist())\n",
    "print(Y_train[0:15])\n",
    "\n",
    "Y_test = np.asarray(test_df['Target'].tolist())\n",
    "print(Y_test[0:15])"
   ]
  },
  {
   "cell_type": "code",
   "execution_count": 11,
   "metadata": {},
   "outputs": [
    {
     "name": "stdout",
     "output_type": "stream",
     "text": [
      "<class 'list'>\n",
      "<class 'list'>\n"
     ]
    }
   ],
   "source": [
    "X_train = train_df['Preprocessed'].tolist()\n",
    "print(type(X_train[0]))\n",
    "\n",
    "X_test = test_df['Preprocessed'].tolist()\n",
    "print(type(X_test[0]))"
   ]
  },
  {
   "cell_type": "markdown",
   "metadata": {},
   "source": [
    "---\n",
    "\n",
    "## Vectorize texts\n",
    "The next step is to vectorize text. Our ML models are not able to work with strings, so we need to convert those strings into numbers. To do that, there are different approaches.\n",
    "\n",
    "For the pourpose of this test, we are going to use some scikit-learn library."
   ]
  },
  {
   "cell_type": "code",
   "execution_count": 12,
   "metadata": {},
   "outputs": [
    {
     "name": "stdout",
     "output_type": "stream",
     "text": [
      "<class 'scipy.sparse.csr.csr_matrix'>\n",
      "Wall time: 15.7 s\n"
     ]
    }
   ],
   "source": [
    "%%time \n",
    "from sklearn.feature_extraction.text import TfidfVectorizer \n",
    "\n",
    "tfidf_vect = TfidfVectorizer(use_idf=True, min_df=12)\n",
    "X_train = tfidf_vect.fit_transform([' '.join(text) for text in X_train])\n",
    "X_test = tfidf_vect.transform([' '.join(text) for text in X_test])\n",
    "\n",
    "print(type(X_train))"
   ]
  },
  {
   "cell_type": "markdown",
   "metadata": {},
   "source": [
    "---\n",
    "## Implementing the model\n",
    "Once we have our data ready, it's time to test some models and get results. We are going to test models using scikit-learn library, which I said before is widely used in this domain."
   ]
  },
  {
   "cell_type": "markdown",
   "metadata": {},
   "source": [
    "#### **1. Multinomial Naive Bayes**\n",
    "This classifier is suitable for text classification, since it is intended to be used with discrete features like word counts.\n",
    "\n",
    "First, we have to train the model using the training data."
   ]
  },
  {
   "cell_type": "code",
   "execution_count": 13,
   "metadata": {},
   "outputs": [
    {
     "name": "stdout",
     "output_type": "stream",
     "text": [
      "Wall time: 76.8 ms\n"
     ]
    },
    {
     "data": {
      "text/plain": [
       "MultinomialNB()"
      ]
     },
     "execution_count": 13,
     "metadata": {},
     "output_type": "execute_result"
    }
   ],
   "source": [
    "%%time\n",
    "from sklearn.naive_bayes import MultinomialNB\n",
    "\n",
    "clf = MultinomialNB()\n",
    "clf.fit(X_train, Y_train)"
   ]
  },
  {
   "cell_type": "markdown",
   "metadata": {},
   "source": [
    "Now that the model is trained, it is ready to perform some predictions. We are using the score method to get the accuracy of the model."
   ]
  },
  {
   "cell_type": "code",
   "execution_count": 14,
   "metadata": {},
   "outputs": [],
   "source": [
    "Y_pred = clf.predict(X_test)"
   ]
  },
  {
   "cell_type": "code",
   "execution_count": 15,
   "metadata": {},
   "outputs": [
    {
     "name": "stdout",
     "output_type": "stream",
     "text": [
      "Accuracy MultinomialNB: 95.24427150886294%\n"
     ]
    }
   ],
   "source": [
    "from sklearn import metrics\n",
    "\n",
    "print('Accuracy MultinomialNB: ' + str(100 * metrics.accuracy_score(Y_test, Y_pred)) + '%')"
   ]
  },
  {
   "cell_type": "markdown",
   "metadata": {},
   "source": [
    "Another useful metric for supervised classification problem is the **confusion matrix**. This metric give us an indication of how the model is performing in terms of true and false positives. Each row represents instances of actual classes and each column represent instances predicted classes, so it is possible to detect for wich categories the model is misclassifying the samples."
   ]
  },
  {
   "cell_type": "code",
   "execution_count": 16,
   "metadata": {},
   "outputs": [],
   "source": [
    "import matplotlib.pyplot as plt\n",
    "import seaborn as sns\n",
    "\n",
    "def print_confusion_matrix(confusion_matrix, class_names, normalize=False, figsize=(10,7), fontsize=14):\n",
    "    df_cm = pd.DataFrame(\n",
    "        confusion_matrix, index=class_names, columns=class_names, \n",
    "    )\n",
    "    fig = plt.figure(figsize=figsize)\n",
    "    try:\n",
    "        heatmap = sns.heatmap(df_cm, annot=True, fmt=\"d\")\n",
    "    except ValueError:\n",
    "        raise ValueError(\"Confusion matrix values must be integers.\")\n",
    "    heatmap.yaxis.set_ticklabels(heatmap.yaxis.get_ticklabels(), rotation=0, ha='right', fontsize=fontsize)\n",
    "    heatmap.xaxis.set_ticklabels(heatmap.xaxis.get_ticklabels(), rotation=45, ha='right', fontsize=fontsize)\n",
    "    plt.ylabel('True label')\n",
    "    plt.xlabel('Predicted label')\n",
    "    return fig"
   ]
  },
  {
   "cell_type": "code",
   "execution_count": 17,
   "metadata": {},
   "outputs": [],
   "source": [
    "from sklearn import metrics\n",
    "\n",
    "# Inverse transform the label encoding\n",
    "Y_test_cat = le.inverse_transform(Y_test)\n",
    "Y_pred_cat = le.inverse_transform(Y_pred)\n",
    "\n",
    "conf = metrics.confusion_matrix(Y_test, Y_pred)"
   ]
  },
  {
   "cell_type": "code",
   "execution_count": 18,
   "metadata": {},
   "outputs": [
    {
     "data": {
      "image/png": "[encoded data removed]",
      "text/plain": [
       "<Figure size 720x504 with 2 Axes>"
      ]
     },
     "metadata": {
      "needs_background": "light"
     },
     "output_type": "display_data"
    }
   ],
   "source": [
    "print_confusion_matrix(conf, labels);"
   ]
  },
  {
   "cell_type": "markdown",
   "metadata": {},
   "source": [
    "#### **Conclusions of MultinomialNB**\n",
    "\n",
    "As we can see, the model performs with and accuracy of 95'24%, wich is a very good result as starting point.\n",
    "\n",
    "Looking at Confusion Matrix, we can see that the worst classified examples are those belonging to APR class. This is cause by the translation performed to get those documents. The translation method has return not accurate results so the documents include wrong words that performs bad at classification time.\n",
    "\n",
    "With regard to training time, this model stands out for being very efficient, giving a computation time of 76.8 ms.\n",
    "\n",
    "Let's try other model to see if it outperforms the Multinomial Naive Bayes.\n",
    "\n",
    "---\n",
    "\n",
    "#### **2. Linear Support Vector Machine**\n",
    "This also a good algorithm for supervised learning tasks. I'm going to test scikit-learn implementation.\n",
    "\n",
    "First, we have to train the model using the training data."
   ]
  },
  {
   "cell_type": "code",
   "execution_count": 19,
   "metadata": {},
   "outputs": [
    {
     "name": "stdout",
     "output_type": "stream",
     "text": [
      "Wall time: 1.28 s\n"
     ]
    },
    {
     "data": {
      "text/plain": [
       "LinearSVC()"
      ]
     },
     "execution_count": 19,
     "metadata": {},
     "output_type": "execute_result"
    }
   ],
   "source": [
    "%%time\n",
    "from sklearn.svm import LinearSVC\n",
    "\n",
    "clf = LinearSVC()\n",
    "clf.fit(X_train, Y_train)"
   ]
  },
  {
   "cell_type": "markdown",
   "metadata": {},
   "source": [
    "Now that the model is trained, it is ready to perform some predictions. We are using the score method to get the accuracy of the model."
   ]
  },
  {
   "cell_type": "code",
   "execution_count": 20,
   "metadata": {},
   "outputs": [
    {
     "name": "stdout",
     "output_type": "stream",
     "text": [
      "Wall time: 6.95 ms\n"
     ]
    }
   ],
   "source": [
    "%%time\n",
    "Y_pred = clf.predict(X_test)"
   ]
  },
  {
   "cell_type": "code",
   "execution_count": 21,
   "metadata": {},
   "outputs": [
    {
     "name": "stdout",
     "output_type": "stream",
     "text": [
      "Accuracy Support Vector Machine: 99.09208819714657%\n"
     ]
    }
   ],
   "source": [
    "from sklearn import metrics\n",
    "\n",
    "print('Accuracy Support Vector Machine: ' + str(100 * metrics.accuracy_score(Y_test, Y_pred)) + '%')"
   ]
  },
  {
   "cell_type": "markdown",
   "metadata": {},
   "source": [
    "Again, let's use **confusion matrix**."
   ]
  },
  {
   "cell_type": "code",
   "execution_count": 22,
   "metadata": {},
   "outputs": [],
   "source": [
    "import matplotlib.pyplot as plt\n",
    "import seaborn as sns\n",
    "\n",
    "def print_confusion_matrix(confusion_matrix, class_names, normalize=False, figsize=(10,7), fontsize=14):\n",
    "    df_cm = pd.DataFrame(\n",
    "        confusion_matrix, index=class_names, columns=class_names, \n",
    "    )\n",
    "    fig = plt.figure(figsize=figsize)\n",
    "    try:\n",
    "        heatmap = sns.heatmap(df_cm, annot=True, fmt=\"d\")\n",
    "    except ValueError:\n",
    "        raise ValueError(\"Confusion matrix values must be integers.\")\n",
    "    heatmap.yaxis.set_ticklabels(heatmap.yaxis.get_ticklabels(), rotation=0, ha='right', fontsize=fontsize)\n",
    "    heatmap.xaxis.set_ticklabels(heatmap.xaxis.get_ticklabels(), rotation=45, ha='right', fontsize=fontsize)\n",
    "    plt.ylabel('True label')\n",
    "    plt.xlabel('Predicted label')\n",
    "    return fig"
   ]
  },
  {
   "cell_type": "code",
   "execution_count": 23,
   "metadata": {},
   "outputs": [],
   "source": [
    "from sklearn import metrics\n",
    "\n",
    "# Inverse transform the label encoding\n",
    "Y_test_cat = le.inverse_transform(Y_test)\n",
    "Y_pred_cat = le.inverse_transform(Y_pred)\n",
    "\n",
    "conf = metrics.confusion_matrix(Y_test, Y_pred)"
   ]
  },
  {
   "cell_type": "code",
   "execution_count": 24,
   "metadata": {},
   "outputs": [
    {
     "data": {
      "image/png": "[encoded data removed]",
      "text/plain": [
       "<Figure size 720x504 with 2 Axes>"
      ]
     },
     "metadata": {
      "needs_background": "light"
     },
     "output_type": "display_data"
    }
   ],
   "source": [
    "print_confusion_matrix(conf, labels);"
   ]
  },
  {
   "cell_type": "markdown",
   "metadata": {},
   "source": [
    "#### **Conclusions of LinearSVC**\n",
    "\n",
    "In this case, we can see how the model give us a better accuracy value: 99,09%.\n",
    "\n",
    "The confusion matrix also reveal some interesting results. As we can see, now the APR documents are better classified (67 correct results vs 5 wrong) while whith MultinomialNB every sample was misclassified. Nevertheless, the resulst of Wikipedia are lightly worse, since the last model was capable of classifying correctly 290 samples but this model 297. The results of Conference_papers are slightly better, with 1339 correct results vs 1328 correct results with the last model.\n",
    "\n",
    "Just like in the previous model, the training time is very good: 1,28s.\n",
    "\n",
    "---\n",
    "\n",
    "## Final design\n",
    "As we have seen, both models are capable of performing adequately for the required tearea. Based on the extracted metrics, we will use LinearSVC as the final model. A processing pipeline will be implemented for this purpose.\n",
    "\n",
    "**Important:** Please, keep in mind that this final group of cells need to be independently executed, since there will be variables computed in the previous steps.\n",
    "\n",
    "**Updated:** Added required cells at the beginning of this section so it's no necessary to keep track of variables. Those cells correspond to the first cells of this notebook but without coments."
   ]
  },
  {
   "cell_type": "code",
   "execution_count": 25,
   "metadata": {},
   "outputs": [],
   "source": [
    "import pickle\n",
    "import pandas as pd\n",
    "\n",
    "preproc_df = pickle.load(open(\"../data/preproc_df.pkl\", 'rb'))"
   ]
  },
  {
   "cell_type": "code",
   "execution_count": 26,
   "metadata": {},
   "outputs": [],
   "source": [
    "from sklearn import preprocessing\n",
    "\n",
    "le = preprocessing.LabelEncoder()\n",
    "preproc_df['Target'] = le.fit_transform([cat for cat in preproc_df['Category']])"
   ]
  },
  {
   "cell_type": "code",
   "execution_count": 27,
   "metadata": {},
   "outputs": [],
   "source": [
    "labels = list(set(preproc_df['Category'].tolist()))"
   ]
  },
  {
   "cell_type": "code",
   "execution_count": 28,
   "metadata": {},
   "outputs": [],
   "source": [
    "preproc_df = preproc_df.sample(frac=1).reset_index(drop=True)"
   ]
  },
  {
   "cell_type": "code",
   "execution_count": 29,
   "metadata": {},
   "outputs": [],
   "source": [
    "from sklearn.model_selection import train_test_split\n",
    "\n",
    "train_df, test_df = train_test_split(preproc_df, test_size=0.1)"
   ]
  },
  {
   "cell_type": "code",
   "execution_count": 30,
   "metadata": {},
   "outputs": [
    {
     "name": "stdout",
     "output_type": "stream",
     "text": [
      "[1 3 1 3 3 3 0 3 3 3 0 3 3 0 3]\n",
      "[0 2 3 2 0 0 1 2 3 0 0 3 3 3 3]\n"
     ]
    }
   ],
   "source": [
    "import numpy as np\n",
    "\n",
    "Y_train = np.asarray(train_df['Target'].tolist())\n",
    "print(Y_train[0:15])\n",
    "\n",
    "Y_test = np.asarray(test_df['Target'].tolist())\n",
    "print(Y_test[0:15])"
   ]
  },
  {
   "cell_type": "code",
   "execution_count": 31,
   "metadata": {},
   "outputs": [
    {
     "name": "stdout",
     "output_type": "stream",
     "text": [
      "<class 'list'>\n",
      "<class 'list'>\n"
     ]
    }
   ],
   "source": [
    "X_train = train_df['Preprocessed'].tolist()\n",
    "print(type(X_train[0]))\n",
    "\n",
    "X_test = test_df['Preprocessed'].tolist()\n",
    "print(type(X_test[0]))"
   ]
  },
  {
   "cell_type": "markdown",
   "metadata": {},
   "source": [
    "Implementing the pipeline"
   ]
  },
  {
   "cell_type": "code",
   "execution_count": 32,
   "metadata": {},
   "outputs": [],
   "source": [
    "from sklearn.pipeline import Pipeline\n",
    "from sklearn.feature_extraction.text import TfidfVectorizer \n",
    "from sklearn.svm import LinearSVC\n",
    "\n",
    "pipe = Pipeline([\n",
    "    ('vect', TfidfVectorizer(min_df=12, tokenizer=None)),\n",
    "    ('clf', LinearSVC())\n",
    "])"
   ]
  },
  {
   "cell_type": "code",
   "execution_count": 33,
   "metadata": {},
   "outputs": [
    {
     "data": {
      "text/plain": [
       "Pipeline(steps=[('vect', TfidfVectorizer(min_df=12)), ('clf', LinearSVC())])"
      ]
     },
     "execution_count": 33,
     "metadata": {},
     "output_type": "execute_result"
    }
   ],
   "source": [
    "pipe.fit([' '.join(text) for text in X_train], Y_train)"
   ]
  },
  {
   "cell_type": "code",
   "execution_count": 34,
   "metadata": {},
   "outputs": [
    {
     "name": "stdout",
     "output_type": "stream",
     "text": [
      "Final accuracy score: 98.65974924340684%\n"
     ]
    }
   ],
   "source": [
    "print('Final accuracy score: ' + str(pipe.score([' '.join(text) for text in X_test], Y_test)*100) + '%')"
   ]
  },
  {
   "cell_type": "markdown",
   "metadata": {},
   "source": [
    " Now, let's save and dump the model"
   ]
  },
  {
   "cell_type": "code",
   "execution_count": 35,
   "metadata": {},
   "outputs": [
    {
     "data": {
      "text/plain": [
       "['../data/classification_model.joblib']"
      ]
     },
     "execution_count": 35,
     "metadata": {},
     "output_type": "execute_result"
    }
   ],
   "source": [
    "from joblib import dump\n",
    "\n",
    "dump(pipe, '../data/classification_model.joblib')"
   ]
  },
  {
   "cell_type": "markdown",
   "metadata": {},
   "source": [
    "---\n"
   ]
  }
 ],
 "metadata": {
  "kernelspec": {
   "display_name": "Python 3",
   "language": "python",
   "name": "python3"
  },
  "language_info": {
   "codemirror_mode": {
    "name": "ipython",
    "version": 3
   },
   "file_extension": ".py",
   "mimetype": "text/x-python",
   "name": "python",
   "nbconvert_exporter": "python",
   "pygments_lexer": "ipython3",
   "version": "3.8.3"
  }
 },
 "nbformat": 4,
 "nbformat_minor": 4
}
