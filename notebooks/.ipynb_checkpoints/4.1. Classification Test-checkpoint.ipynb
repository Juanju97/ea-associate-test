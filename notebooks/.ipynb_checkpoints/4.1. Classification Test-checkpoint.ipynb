{
 "cells": [
  {
   "cell_type": "markdown",
   "metadata": {},
   "source": [
    "# 4.1. Classification Test\n",
    "#### Juan Julián Cea Morán\n",
    "\n",
    "![img](../images/ea.png)\n",
    "\n",
    "---\n",
    "After training our classification model, it is time to export it and make some tests in order to check if the standalone use of the model performs well."
   ]
  },
  {
   "cell_type": "markdown",
   "metadata": {},
   "source": [
    "### Import pipeline and preprocessing function"
   ]
  },
  {
   "cell_type": "code",
   "execution_count": 7,
   "metadata": {},
   "outputs": [],
   "source": [
    "from joblib import load\n",
    "\n",
    "pipe = load('../data/classification_model.joblib')"
   ]
  },
  {
   "cell_type": "markdown",
   "metadata": {},
   "source": [
    "Now, lets import preprocessing function"
   ]
  },
  {
   "cell_type": "code",
   "execution_count": 8,
   "metadata": {},
   "outputs": [],
   "source": [
    "import re\n",
    "import string\n",
    "import unidecode\n",
    "import nltk\n",
    "from nltk.tokenize import word_tokenize\n",
    "from nltk.corpus import stopwords\n",
    "# nltk.download('punkt')\n",
    "# nltk.download('stopwords')\n",
    "\n",
    "stopwords = stopwords.words(\"french\") + stopwords.words(\"english\") + stopwords.words(\"spanish\")\n",
    "\n",
    "def preprocess(text):\n",
    "    text = unidecode.unidecode(text.strip().lower())\n",
    "    \n",
    "    url_regex = re.compile('http[s]?://(?:[a-zA-Z]|[0-9]|[$-_@.&+]|[!*\\(\\),]|(?:%[0-9a-fA-F][0-9a-fA-F]))+')\n",
    "    text = url_regex.sub(' ', text)\n",
    "    \n",
    "    html_pattern = re.compile('<.?>|&([a-z0-9]+|#[0-9]{1,6}|#x[0-9a-f]{1,6});')\n",
    "    text =  html_pattern.sub(' ', text)\n",
    "    \n",
    "    chars_regex = re.compile('[^a-zA-Z0-9 -]')\n",
    "    text = chars_regex.sub(' ', text)\n",
    "\n",
    "    number_regex = re.compile('[\\d]+')\n",
    "    text = number_regex.sub(' ', text)\n",
    "    \n",
    "    text = ' '.join(text.split('\\''))\n",
    "    \n",
    "    text = word_tokenize(text)\n",
    "    \n",
    "    text = [word for word in text if word not in stopwords and len(word)>2]\n",
    "    \n",
    "    return text"
   ]
  },
  {
   "cell_type": "markdown",
   "metadata": {},
   "source": [
    "---\n",
    "### Wikipedia test"
   ]
  },
  {
   "cell_type": "code",
   "execution_count": 10,
   "metadata": {},
   "outputs": [],
   "source": [
    "labels = {0: 'APR', 1: 'Conference_papers', 2: 'PAN11', 3: 'Wikipedia'}"
   ]
  },
  {
   "cell_type": "code",
   "execution_count": 11,
   "metadata": {},
   "outputs": [],
   "source": [
    "text_doraemon = \"\"\"\n",
    "Doraemon (Japanese: ドラえもん Japanese pronunciation: [do̞ɾa̠e̞mõ̞ɴ]) is a Japanese manga series written and illustrated by Fujiko Fujio, the pen name of the duo Hiroshi Fujimoto and Motoo Abiko. The series has also been adapted into a successful anime series and media franchise. The story revolves around an earless robotic cat named Doraemon, who travels back in time from the 22nd century to aid a boy named Nobita Nobi (野比のび太, Nobi Nobita).\n",
    "\n",
    "The first full story in the Doraemon manga series was published in January 1970. A pre-advertisement for the manga was published in six different magazines in December 1969. A total of 1,465 stories were created in the original series, which are published by Shogakukan. It is one of the best-selling manga in the world, and has sold over 100 million copies as of 2015.\n",
    "\n",
    "The volumes are collected in the Takaoka Central Library in Toyama, Japan, where Fujiko Fujio was born. Turner Broadcasting System bought the rights to the Doraemon anime series in the mid-1980s for an English-language release in the United States,[3] but cancelled it without explanation before broadcasting any episodes. In July 2013, Voyager Japan announced the manga would be released digitally in English via the Amazon Kindle e-book service.\n",
    "\n",
    "Awards for Doraemon include the Japan Cartoonists Association Award for excellence in 1973, the first Shogakukan Manga Award for children's manga in 1982, and the first Osamu Tezuka Culture Award in 1997. In March 2008, Japan's Foreign Ministry appointed Doraemon as the nation's first \"anime ambassador.\" A Ministry spokesperson explained the novel decision as an attempt to help people in other countries understand Japanese anime better and to deepen their interest in Japanese culture.[4]\n",
    "\n",
    "The Foreign Ministry action confirms that Doraemon has come to be considered a Japanese cultural icon. In India, its Hindi, Telugu and Tamil translation has been telecasted, where the anime version is the highest-rated kids' show; winning the Best Show For Kids award twice at the Nickelodeon Kids' Choice Awards India in 2013 and 2015. In 2002 Time Asia magazine acclaimed the character as an \"Asian Hero\" in a special feature survey. An edited English dub distributed by TV Asahi aired on Disney XD in the United States started on July 7, 2014. On August 17, 2015, another English dubbed version distributed by Luk Internacional began broadcasting on Boomerang UK. The film series is the largest by number of admissions in Japan. \n",
    "\"\"\""
   ]
  },
  {
   "cell_type": "code",
   "execution_count": 12,
   "metadata": {},
   "outputs": [
    {
     "data": {
      "text/plain": [
       "'Wikipedia'"
      ]
     },
     "execution_count": 12,
     "metadata": {},
     "output_type": "execute_result"
    }
   ],
   "source": [
    "labels[pipe.predict(preprocess(text_doraemon))[0]]"
   ]
  }
 ],
 "metadata": {
  "kernelspec": {
   "display_name": "Python 3",
   "language": "python",
   "name": "python3"
  },
  "language_info": {
   "codemirror_mode": {
    "name": "ipython",
    "version": 3
   },
   "file_extension": ".py",
   "mimetype": "text/x-python",
   "name": "python",
   "nbconvert_exporter": "python",
   "pygments_lexer": "ipython3",
   "version": "3.8.3"
  }
 },
 "nbformat": 4,
 "nbformat_minor": 4
}
