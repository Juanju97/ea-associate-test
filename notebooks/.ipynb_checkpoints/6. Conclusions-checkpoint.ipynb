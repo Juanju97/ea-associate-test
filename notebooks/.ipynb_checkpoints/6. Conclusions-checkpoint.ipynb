{
 "cells": [
  {
   "cell_type": "markdown",
   "metadata": {},
   "source": [
    "# 5. Conclusions\n",
    "---\n",
    "\n",
    "After being worked on the problem, there are some conclusions that we should extract.\n",
    "\n",
    "* The data science methodology has been succesfully applied to this particular work and satisfactory results have been obtained.\n",
    "\n",
    "* Regarding **Classification task**, two models have been tested with very good results. Finally, a processing pipeline has been built and tested in a separate notebook using a text external to the dataset, obtaining a positive result.\n",
    "\n",
    "* Regarding **Topic Modeling task**, a research process has been developed in order to find alternative ways to properly analyse this multilingual dataset. However, a classic LDA topic modeling has been developed for each context and language with the associated supervised guidance during the model refination.\n",
    "\n",
    "### Future Work\n",
    "As important as drawing conclusions, it is to point out some lines of future work. \n",
    "The main line of future work lies in the multi-language aspect of the problem. \n",
    "Specifically in relation to the topic modelling task. In successive iterations of the work, different approaches will be investigated to be able to perform topic modelling of each context independently of the language. I will investigate the capabilities of different variations of classical LDA, adaptable to multilingual data, as well as the possibility of running topic modeling through the training of multilingual embeddings.\n",
    "\n"
   ]
  }
 ],
 "metadata": {
  "kernelspec": {
   "display_name": "Python 3",
   "language": "python",
   "name": "python3"
  },
  "language_info": {
   "codemirror_mode": {
    "name": "ipython",
    "version": 3
   },
   "file_extension": ".py",
   "mimetype": "text/x-python",
   "name": "python",
   "nbconvert_exporter": "python",
   "pygments_lexer": "ipython3",
   "version": "3.8.3"
  }
 },
 "nbformat": 4,
 "nbformat_minor": 4
}
