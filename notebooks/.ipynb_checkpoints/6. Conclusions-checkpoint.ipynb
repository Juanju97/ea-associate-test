{
 "cells": [
  {
   "cell_type": "markdown",
   "metadata": {},
   "source": [
    "# **6. Conclusions**\n",
    "#### Juan Julián Cea Morán\n",
    "\n",
    "<img src=\"https://upload.wikimedia.org/wikipedia/commons/thumb/0/0d/Electronic-Arts-Logo.svg/1200px-Electronic-Arts-Logo.svg.png\" width=100px>\n",
    "\n",
    "---\n",
    "\n",
    "After being worked on the problem, there are some conclusions that we should extract.\n",
    "\n",
    "First of all, the data science methodology has been succesfully applied to this particular work. Likewise, the tasks carried out throughout the different key points of the project have been documented, thus giving rise to a Sotry Telling about the different developments carried out and generating the corresponding reports. For each one of the two proposed task, satisfactory results have been obtained:\n",
    "\n",
    "Regarding **Classification task**, two models have been tested with very good results. To achieve these results, the classic process of any data science project has been followed: First, the data have been analysed in depth. Then they have been cleaned and prepared for their vectorization. Finally, the vectorized data has been used to successfully train the models. Finally, a processing pipeline has been built and tested in a separate notebook using a text external to the dataset, obtaining a positive result.\n",
    "\n",
    "Regarding **Topic Modeling task**, a research process has been developed in order to find alternative ways to properly analyse this multilingual dataset. However, a classic LDA topic modeling has been developed for each context and language with the associated supervised guidance during the model refination.\n",
    "\n",
    "Personally, this project has helped me to consolidate my knowledge in such important NLP tasks as classification and topic modelling, perfecting my skills in the different phases of the process as well as in documentation. In addition, the fact that I have faced a multilingual dataset has been an extra challenge that I had never faced before. This has allowed me to investigate new methods to solve this kind of problems, although I have not been able to explain them in this report, leaving open a great field of study that I will address as soon as possible.\n",
    "\n",
    "---\n",
    "\n",
    "### Future Work\n",
    "As important as drawing conclusions, it is to point out some lines of future work. \n",
    "\n",
    "The main line of future work lies in the multi-language aspect of the problem. Specifically in relation to the topic modelling task. In successive iterations of the work, different approaches will be investigated to be able to perform topic modelling of each context independently of the language. Specifically, I will investigate the capabilities of different variations of classical LDA, adaptable to multilingual data, as well as the possibility of running topic modeling through the training of multilingual embeddings.\n",
    "\n"
   ]
  }
 ],
 "metadata": {
  "kernelspec": {
   "display_name": "Python 3",
   "language": "python",
   "name": "python3"
  },
  "language_info": {
   "codemirror_mode": {
    "name": "ipython",
    "version": 3
   },
   "file_extension": ".py",
   "mimetype": "text/x-python",
   "name": "python",
   "nbconvert_exporter": "python",
   "pygments_lexer": "ipython3",
   "version": "3.8.3"
  }
 },
 "nbformat": 4,
 "nbformat_minor": 4
}
