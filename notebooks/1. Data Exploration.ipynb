{
 "cells": [
  {
   "cell_type": "markdown",
   "metadata": {},
   "source": [
    "# Data Exploration\n",
    "#### Juan Julián Cea Morán"
   ]
  },
  {
   "cell_type": "markdown",
   "metadata": {},
   "source": [
    "### Import data\n",
    "---"
   ]
  },
  {
   "cell_type": "code",
   "execution_count": 6,
   "metadata": {},
   "outputs": [],
   "source": [
    "import pandas as pd\n",
    "from os import walk"
   ]
  },
  {
   "cell_type": "code",
   "execution_count": 103,
   "metadata": {},
   "outputs": [],
   "source": [
    "docs_df = pd.DataFrame(columns=['Name', 'Text', 'Lang', 'Category'])\n",
    "\n",
    "cat = None\n",
    "lang = None\n",
    "for root, dirs, files in os.walk(\"../data/documents_challenge/\", topdown=True):\n",
    "    for _dir in dirs:\n",
    "        cat = _dir\n",
    "        for root2, dirs2, files2 in os.walk(os.path.join(root, _dir)):\n",
    "            for _dir2 in dirs2:\n",
    "                lang = _dir2\n",
    "                for root3, dirs3, files3 in os.walk(os.path.join(root2, _dir2)):\n",
    "                    for file in files3:\n",
    "                        f = open(os.path.join(root3, file), 'r', encoding='utf-8')\n",
    "                        docs_pd.loc[docs_pd.shape[0]] = [file, f.read(), lang, cat]\n",
    "                        f.close()\n",
    "\n",
    "    break"
   ]
  },
  {
   "cell_type": "code",
   "execution_count": 104,
   "metadata": {},
   "outputs": [
    {
     "data": {
      "text/html": [
       "<div>\n",
       "<style scoped>\n",
       "    .dataframe tbody tr th:only-of-type {\n",
       "        vertical-align: middle;\n",
       "    }\n",
       "\n",
       "    .dataframe tbody tr th {\n",
       "        vertical-align: top;\n",
       "    }\n",
       "\n",
       "    .dataframe thead th {\n",
       "        text-align: right;\n",
       "    }\n",
       "</style>\n",
       "<table border=\"1\" class=\"dataframe\">\n",
       "  <thead>\n",
       "    <tr style=\"text-align: right;\">\n",
       "      <th></th>\n",
       "      <th>Name</th>\n",
       "      <th>Text</th>\n",
       "      <th>Lang</th>\n",
       "      <th>Category</th>\n",
       "    </tr>\n",
       "  </thead>\n",
       "  <tbody>\n",
       "    <tr>\n",
       "      <th>0</th>\n",
       "      <td>apr-book-0-en.txt</td>\n",
       "      <td>i read this book because in my town, everyone ...</td>\n",
       "      <td>en</td>\n",
       "      <td>APR</td>\n",
       "    </tr>\n",
       "    <tr>\n",
       "      <th>1</th>\n",
       "      <td>apr-book-1-en.txt</td>\n",
       "      <td>recipes appreciated by the family (small and l...</td>\n",
       "      <td>en</td>\n",
       "      <td>APR</td>\n",
       "    </tr>\n",
       "    <tr>\n",
       "      <th>2</th>\n",
       "      <td>apr-book-10-en.txt</td>\n",
       "      <td>i say no to ease ..... and not to the author w...</td>\n",
       "      <td>en</td>\n",
       "      <td>APR</td>\n",
       "    </tr>\n",
       "    <tr>\n",
       "      <th>3</th>\n",
       "      <td>apr-book-100-en.txt</td>\n",
       "      <td>milady has found a good vein: anita blake. bas...</td>\n",
       "      <td>en</td>\n",
       "      <td>APR</td>\n",
       "    </tr>\n",
       "    <tr>\n",
       "      <th>4</th>\n",
       "      <td>apr-book-1000-en.txt</td>\n",
       "      <td>460 bc, somewhere in greece: \"gentlemen, i dec...</td>\n",
       "      <td>en</td>\n",
       "      <td>APR</td>\n",
       "    </tr>\n",
       "    <tr>\n",
       "      <th>...</th>\n",
       "      <td>...</td>\n",
       "      <td>...</td>\n",
       "      <td>...</td>\n",
       "      <td>...</td>\n",
       "    </tr>\n",
       "    <tr>\n",
       "      <th>23123</th>\n",
       "      <td>998787674-fr.txt</td>\n",
       "      <td>, Nuremberg |années actives = depuis 1998 |gen...</td>\n",
       "      <td>fr</td>\n",
       "      <td>Wikipedia</td>\n",
       "    </tr>\n",
       "    <tr>\n",
       "      <th>23124</th>\n",
       "      <td>998979048-fr.txt</td>\n",
       "      <td>Une cellule polyploïde (du grec : πολλαπλόν - ...</td>\n",
       "      <td>fr</td>\n",
       "      <td>Wikipedia</td>\n",
       "    </tr>\n",
       "    <tr>\n",
       "      <th>23125</th>\n",
       "      <td>999570169-fr.txt</td>\n",
       "      <td>, George W. Bush et Albert II le .]]La reine ...</td>\n",
       "      <td>fr</td>\n",
       "      <td>Wikipedia</td>\n",
       "    </tr>\n",
       "    <tr>\n",
       "      <th>23126</th>\n",
       "      <td>999735578-fr.txt</td>\n",
       "      <td>Sertã est une petite ville portugaise de 5 50...</td>\n",
       "      <td>fr</td>\n",
       "      <td>Wikipedia</td>\n",
       "    </tr>\n",
       "    <tr>\n",
       "      <th>23127</th>\n",
       "      <td>99977230-fr.txt</td>\n",
       "      <td>| imdb = 82158 Les Chariots de feu (Chariots ...</td>\n",
       "      <td>fr</td>\n",
       "      <td>Wikipedia</td>\n",
       "    </tr>\n",
       "  </tbody>\n",
       "</table>\n",
       "<p>23128 rows × 4 columns</p>\n",
       "</div>"
      ],
      "text/plain": [
       "                       Name  \\\n",
       "0         apr-book-0-en.txt   \n",
       "1         apr-book-1-en.txt   \n",
       "2        apr-book-10-en.txt   \n",
       "3       apr-book-100-en.txt   \n",
       "4      apr-book-1000-en.txt   \n",
       "...                     ...   \n",
       "23123      998787674-fr.txt   \n",
       "23124      998979048-fr.txt   \n",
       "23125      999570169-fr.txt   \n",
       "23126      999735578-fr.txt   \n",
       "23127       99977230-fr.txt   \n",
       "\n",
       "                                                    Text Lang   Category  \n",
       "0      i read this book because in my town, everyone ...   en        APR  \n",
       "1      recipes appreciated by the family (small and l...   en        APR  \n",
       "2      i say no to ease ..... and not to the author w...   en        APR  \n",
       "3      milady has found a good vein: anita blake. bas...   en        APR  \n",
       "4      460 bc, somewhere in greece: \"gentlemen, i dec...   en        APR  \n",
       "...                                                  ...  ...        ...  \n",
       "23123  , Nuremberg |années actives = depuis 1998 |gen...   fr  Wikipedia  \n",
       "23124  Une cellule polyploïde (du grec : πολλαπλόν - ...   fr  Wikipedia  \n",
       "23125   , George W. Bush et Albert II le .]]La reine ...   fr  Wikipedia  \n",
       "23126   Sertã est une petite ville portugaise de 5 50...   fr  Wikipedia  \n",
       "23127   | imdb = 82158 Les Chariots de feu (Chariots ...   fr  Wikipedia  \n",
       "\n",
       "[23128 rows x 4 columns]"
      ]
     },
     "execution_count": 104,
     "metadata": {},
     "output_type": "execute_result"
    }
   ],
   "source": [
    "docs_df"
   ]
  },
  {
   "cell_type": "code",
   "execution_count": 105,
   "metadata": {},
   "outputs": [],
   "source": [
    "import pickle\n",
    "\n",
    "output = open('../data/docs_df.pkl', 'wb')\n",
    "pickle.dump (docs_df, output)\n",
    "output.close()"
   ]
  },
  {
   "cell_type": "markdown",
   "metadata": {},
   "source": [
    "Extraer número de idiomas, número de categorías, longitud del token más largo etc."
   ]
  }
 ],
 "metadata": {
  "kernelspec": {
   "display_name": "Python 3",
   "language": "python",
   "name": "python3"
  },
  "language_info": {
   "codemirror_mode": {
    "name": "ipython",
    "version": 3
   },
   "file_extension": ".py",
   "mimetype": "text/x-python",
   "name": "python",
   "nbconvert_exporter": "python",
   "pygments_lexer": "ipython3",
   "version": "3.8.3"
  }
 },
 "nbformat": 4,
 "nbformat_minor": 4
}
