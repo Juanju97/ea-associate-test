{
 "cells": [
  {
   "cell_type": "markdown",
   "metadata": {
    "slideshow": {
     "slide_type": "slide"
    }
   },
   "source": [
    "# 1. Introduction\n",
    "#### Juan Julián Cea Morán\n",
    "\n",
    "![img](../images/ea.png)\n",
    "\n",
    "---\n",
    "\n",
    "This series of notebooks covers the completion of the technical test for the assistant data scientist position at Electronic Arts (EA).\n",
    "\n",
    "The objective is to carry out the steps of a datascience process with research load. Starting at the definition of the methodology to follow, the study of the data, the pre-processing of the data, the implementation of the models, the analysis of the results and the extraction of conclusions.\n",
    "\n",
    "---"
   ]
  },
  {
   "cell_type": "markdown",
   "metadata": {
    "slideshow": {
     "slide_type": "slide"
    }
   },
   "source": [
    "### Problem statement\n",
    "\n",
    "**The goal of the test is working with a multi-language dataset, in order to demonstrate your Natural Language Processing and Machine Translation abilities.**\n",
    "\n",
    "The Core Data Scientist and Storytelling attributes will also be evaluated during your resolution of the case.\n",
    "\n",
    "**About the Data:**\n",
    "\n",
    "The dataset you will be using is a multilingual, multi-context set of documents, which are a part of the one described on the following paper:\n",
    "\n",
    "``Ferrero, Jérémy & Agnès, Frédéric & Besacier, Laurent & Schwab, Didier. (2016). A Multilingual, Multi-Style and Multi-Granularity Dataset for Cross-Language Textual Similarity Detection.``\n",
    "\n",
    "Please note the dataset is divided on contexts/categories (Conference_papers, Wikipedia, ... ) and on languages, in the same way the folders are structured.\n",
    "\n"
   ]
  },
  {
   "cell_type": "markdown",
   "metadata": {
    "slideshow": {
     "slide_type": "subslide"
    }
   },
   "source": [
    " * **Objective 1:** Create a document categorization classifier for the different contexts of the documents. You will be addressing this objective at context level, regardless of the language the documents are written in.\n",
    "    Tasks/Requirements:\n",
    "    * EDA: Exploratory data analysis of the Dataset.\n",
    "    * Reproducibility/Methodology: The analysis you provide must be reproductible. Your analysis will fulfill the Data Science methodology.\n",
    "    * Classification model: The deliverable will include a model which will receive a document as input and will output its class, which will be the context of that document.\n",
    "    \n",
    "* **Objective 2:** Perform a topic model analysis on the provided documents. You will discover the hidden topics and describe them.\n",
    "    Tasks:\n",
    "    * Profile the different documents and topics.\n",
    "    * Provide a visualization of the profiles.\n",
    "---"
   ]
  },
  {
   "cell_type": "markdown",
   "metadata": {
    "slideshow": {
     "slide_type": "slide"
    }
   },
   "source": [
    "\n",
    "### Methodology\n",
    "\n",
    "Once we have analyzed the problem, it's time to propose a methodology or work flow according to the data science classical life cycle.\n",
    "\n",
    "![title](../images/methodology.png)"
   ]
  }
 ],
 "metadata": {
  "celltoolbar": "Slideshow",
  "kernelspec": {
   "display_name": "Python 3",
   "language": "python",
   "name": "python3"
  },
  "language_info": {
   "codemirror_mode": {
    "name": "ipython",
    "version": 3
   },
   "file_extension": ".py",
   "mimetype": "text/x-python",
   "name": "python",
   "nbconvert_exporter": "python",
   "pygments_lexer": "ipython3",
   "version": "3.8.3"
  }
 },
 "nbformat": 4,
 "nbformat_minor": 4
}
